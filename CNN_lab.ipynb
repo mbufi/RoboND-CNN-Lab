{
 "cells": [
  {
   "cell_type": "markdown",
   "metadata": {
    "collapsed": true
   },
   "source": [
    "# Image Classification\n",
    "In this lab, you'll classify images from the [Fashion-MNIST dataset](https://github.com/zalandoresearch/fashion-mnist#get-the-data).  The dataset consists of different types of clothing items such as shirts, trousers, sneakers etc. You'll preprocess the images, then train a convolutional neural network on all the samples. The images need to be normalized and the labels need to be one-hot encoded.  You'll get to apply what you learned and build a model with convolutional, max pooling, dropout, and fully connected layers.  At the end, you'll get to see your neural network's predictions on the sample images.\n",
    "## Get the Data\n",
    "We have provided you with a pickle file for the dataset available in the GitHub repo. We have provided with a script - helper.py, which extracts the dataset for you when the corresponding functions are called."
   ]
  },
  {
   "cell_type": "markdown",
   "metadata": {},
   "source": [
    "## Explore the Data\n",
    "The Fashion-MNIST dataset consists of a training set of 60,000 examples and a test set of 10,000 examples. Each example is a 28x28 grayscale image, associated with a label from the following 10 classes:\n",
    "\n",
    "* T-shirt/top\n",
    "* Trouser\n",
    "* Pullover\n",
    "* Dress\n",
    "* Coat\n",
    "* Sandal\n",
    "* Shirt\n",
    "* Sneaker\n",
    "* Bag\n",
    "* Ankle boot\n",
    "\n",
    "Understanding a dataset is part of making predictions on the data.  Play around with the code cell below by changing the `sample_id`. The `sample_id` is the id for a image and label pair in the dataset.\n",
    "\n",
    "Ask yourself \"What are all possible labels?\", \"What is the range of values for the image data?\", \"Are the labels in order or random?\".  Answers to questions like these will help you preprocess the data and end up with better predictions."
   ]
  },
  {
   "cell_type": "code",
   "execution_count": 6,
   "metadata": {},
   "outputs": [
    {
     "name": "stdout",
     "output_type": "stream",
     "text": [
      "Samples: 60000\n",
      "Label Counts: {0: 6000, 1: 6000, 2: 6000, 3: 6000, 4: 6000, 5: 6000, 6: 6000, 7: 6000, 8: 6000, 9: 6000}\n",
      "First 20 Labels: [9 0 0 3 0 2 7 2 5 5 0 9 5 5 7 9 1 0 6 4]\n",
      "\n",
      "Example of Image 6:\n",
      "Image - Min Value: 0 Max Value: 255\n",
      "Image - Shape: (28, 28, 1)\n",
      "Label - Label Id: 7 Name: sneaker\n"
     ]
    },
    {
     "data": {
      "image/png": "[encoded data removed]",
      "text/plain": [
       "<matplotlib.figure.Figure at 0x2165474f4a8>"
      ]
     },
     "metadata": {
      "image/png": {
       "height": 250,
       "width": 253
      }
     },
     "output_type": "display_data"
    }
   ],
   "source": [
    "%matplotlib inline\n",
    "%config InlineBackend.figure_format = 'retina'\n",
    "\n",
    "import helper\n",
    "import numpy as np\n",
    "\n",
    "import pickle\n",
    "\n",
    "filename = \"fashion-mnist.p\"\n",
    "\n",
    "# Explore the dataset\n",
    "sample_id = 6\n",
    "helper.display_stats(filename, sample_id)"
   ]
  },
  {
   "cell_type": "markdown",
   "metadata": {},
   "source": [
    "## Implement Preprocess Functions\n",
    "### Normalize\n",
    "In the cell below, implement the `normalize` function to take in image data, `x`, and return it as a normalized Numpy array. The values should be in the range of 0 to 1, inclusive.  The return object should be the same shape as `x`."
   ]
  },
  {
   "cell_type": "code",
   "execution_count": 7,
   "metadata": {},
   "outputs": [
    {
     "name": "stdout",
     "output_type": "stream",
     "text": [
      "Tests Passed\n"
     ]
    }
   ],
   "source": [
    "import problem_unittests as tests\n",
    "def normalize(x):\n",
    "    \"\"\"\n",
    "    Normalize a list of sample image data in the range of 0 to 1\n",
    "    : x: List of image data.  The image shape is (28, 28, 1)\n",
    "    : return: Numpy array of normalize data\n",
    "    \"\"\"\n",
    "    # TODO: Implement Function\n",
    "    return x/255.0\n",
    "    \n",
    "\n",
    "\n",
    "\"\"\"\n",
    "DON'T MODIFY ANYTHING IN THIS CELL THAT IS BELOW THIS LINE\n",
    "\"\"\"\n",
    "tests.test_normalize(normalize)"
   ]
  },
  {
   "cell_type": "markdown",
   "metadata": {},
   "source": [
    "### One-hot encode\n",
    "Just like the previous code cell, you'll be implementing a function for preprocessing.  This time, you'll implement the `one_hot_encode` function. The input, `x`, are a list of labels.  Implement the function to return the list of labels as One-Hot encoded Numpy array.  The possible values for labels are 0 to 9. The one-hot encoding function should return the same encoding for each value between each call to `one_hot_encode`.  Make sure to save the map of encodings outside the function.\n",
    "\n",
    "Hint: Don't reinvent the wheel. You have multiple ways to attempt this: Numpy, TF, or even sklearn's preprocessing package."
   ]
  },
  {
   "cell_type": "code",
   "execution_count": 8,
   "metadata": {},
   "outputs": [
    {
     "name": "stdout",
     "output_type": "stream",
     "text": [
      "Tests Passed\n"
     ]
    }
   ],
   "source": [
    "def one_hot_encode(x):\n",
    "    \"\"\"\n",
    "    One hot encode a list of sample labels. Return a one-hot encoded vector for each label.\n",
    "    : x: List of sample Labels\n",
    "    : return: Numpy array of one-hot encoded labels\n",
    "    \"\"\"\n",
    "    # TODO: Implement Function\n",
    "    encodings = np.zeros((len(x),10))\n",
    "    for i , l in enumerate(x):\n",
    "        encodings[i][l] = 1\n",
    "    return encodings\n",
    "\n",
    "\n",
    "\"\"\"\n",
    "DON'T MODIFY ANYTHING IN THIS CELL THAT IS BELOW THIS LINE\n",
    "\"\"\"\n",
    "tests.test_one_hot_encode(one_hot_encode)"
   ]
  },
  {
   "cell_type": "markdown",
   "metadata": {},
   "source": [
    "### Randomize Data\n",
    "As you saw from exploring the data above, the order of the samples are randomized.  It doesn't hurt to randomize it again, but you don't need to for this dataset."
   ]
  },
  {
   "cell_type": "markdown",
   "metadata": {},
   "source": [
    "## Preprocess all the data and save it\n",
    "Running the code cell below will preprocess all the Fashion-MNIST data and save it to file. The code below also uses 10% of the training data for validation."
   ]
  },
  {
   "cell_type": "code",
   "execution_count": 9,
   "metadata": {
    "collapsed": true
   },
   "outputs": [],
   "source": [
    "\"\"\"\n",
    "DON'T MODIFY ANYTHING IN THIS CELL\n",
    "\"\"\"\n",
    "# Preprocess Training, Validation, and Testing Data\n",
    "helper.preprocess_and_save_data(filename, normalize, one_hot_encode)"
   ]
  },
  {
   "cell_type": "markdown",
   "metadata": {},
   "source": [
    "# Check Point\n",
    "This is your first checkpoint.  If you ever decide to come back to this notebook or have to restart the notebook, you can start from here.  The preprocessed data has been saved to disk."
   ]
  },
  {
   "cell_type": "code",
   "execution_count": 10,
   "metadata": {
    "collapsed": true
   },
   "outputs": [],
   "source": [
    "\"\"\"\n",
    "DON'T MODIFY ANYTHING IN THIS CELL\n",
    "\"\"\"\n",
    "import pickle\n",
    "import problem_unittests as tests\n",
    "import helper\n",
    "\n",
    "# Load the Preprocessed Validation data\n",
    "valid_features, valid_labels = pickle.load(open('preprocess_validation.p', mode='rb'))"
   ]
  },
  {
   "cell_type": "markdown",
   "metadata": {},
   "source": [
    "## Build the network\n",
    "For the neural network, you'll build each layer into a function.  Most of the code you've seen has been outside of functions. To test your code more thoroughly, we require that you put each layer in a function.  This allows us to give you better feedback and test for simple mistakes using our unittests.\n",
    "\n",
    "Let's begin!\n",
    "\n",
    "### Input\n",
    "The neural network needs to read the image data, one-hot encoded labels, and dropout keep probability. Implement the following functions\n",
    "* Implement `neural_net_image_input`\n",
    " * Return a [TF Placeholder](https://www.tensorflow.org/api_docs/python/tf/placeholder)\n",
    " * Set the shape using `image_shape` with batch size set to `None`.\n",
    " * Name the TensorFlow placeholder \"x\" using the TensorFlow `name` parameter in the [TF Placeholder](https://www.tensorflow.org/api_docs/python/tf/placeholder).\n",
    "* Implement `neural_net_label_input`\n",
    " * Return a [TF Placeholder](https://www.tensorflow.org/api_docs/python/tf/placeholder)\n",
    " * Set the shape using `n_classes` with batch size set to `None`.\n",
    " * Name the TensorFlow placeholder \"y\" using the TensorFlow `name` parameter in the [TF Placeholder](https://www.tensorflow.org/api_docs/python/tf/placeholder).\n",
    "* Implement `neural_net_keep_prob_input`\n",
    " * Return a [TF Placeholder](https://www.tensorflow.org/api_docs/python/tf/placeholder) for dropout keep probability.\n",
    " * Name the TensorFlow placeholder \"keep_prob\" using the TensorFlow `name` parameter in the [TF Placeholder](https://www.tensorflow.org/api_docs/python/tf/placeholder).\n",
    "\n",
    "These names will be used at the end of the lab to load your saved model.\n",
    "\n",
    "Note: `None` for shapes in TensorFlow allow for a dynamic size."
   ]
  },
  {
   "cell_type": "code",
   "execution_count": 16,
   "metadata": {},
   "outputs": [
    {
     "name": "stdout",
     "output_type": "stream",
     "text": [
      "Image Input Tests Passed.\n",
      "Label Input Tests Passed.\n",
      "Keep Prob Tests Passed.\n"
     ]
    }
   ],
   "source": [
    "import tensorflow as tf\n",
    "\n",
    "def neural_net_image_input(image_shape):\n",
    "    \"\"\"\n",
    "    Return a Tensor for a batch of image input\n",
    "    : image_shape: Shape of the images\n",
    "    : return: Tensor for image input.\n",
    "    \"\"\"\n",
    "    # TODO: Implement Function\n",
    "    return tf.placeholder(tf.float32,[None, image_shape[0], image_shape[1], image_shape[2]], name='x')\n",
    "    \n",
    "\n",
    "def neural_net_label_input(n_classes):\n",
    "    \"\"\"\n",
    "    Return a Tensor for a batch of label input\n",
    "    : n_classes: Number of classes\n",
    "    : return: Tensor for label input.\n",
    "    \"\"\"\n",
    "    # TODO: Implement Function\n",
    "    return tf.placeholder(tf.float32, [None, n_classes], name=\"y\")\n",
    "    \n",
    "\n",
    "def neural_net_keep_prob_input():\n",
    "    \"\"\"\n",
    "    Return a Tensor for keep probability\n",
    "    : return: Tensor for keep probability.\n",
    "    \"\"\"\n",
    "    # TODO: Implement Function\n",
    "    return tf.placeholder(tf.float32, name=\"keep_prob\")\n",
    "\n",
    "\n",
    "\"\"\"\n",
    "DON'T MODIFY ANYTHING IN THIS CELL THAT IS BELOW THIS LINE\n",
    "\"\"\"\n",
    "tf.reset_default_graph()\n",
    "tests.test_nn_image_inputs(neural_net_image_input)\n",
    "tests.test_nn_label_inputs(neural_net_label_input)\n",
    "tests.test_nn_keep_prob_inputs(neural_net_keep_prob_input)"
   ]
  },
  {
   "cell_type": "markdown",
   "metadata": {},
   "source": [
    "### Convolution and Max Pooling Layer\n",
    "Convolution layers have a lot of success with images. For this code cell, you should implement the function `conv2d_maxpool` to apply convolution then max pooling:\n",
    "* Create the weight and bias using `conv_ksize`, `conv_num_outputs` and the shape of `x_tensor`.\n",
    "* Apply a convolution to `x_tensor` using weight and `conv_strides`.\n",
    " * We recommend you use same padding, but you're welcome to use any padding.\n",
    "* Add bias\n",
    "* Add a nonlinear activation to the convolution.\n",
    "* Apply Max Pooling using `pool_ksize` and `pool_strides`.\n",
    " * We recommend you use same padding, but you're welcome to use any padding."
   ]
  },
  {
   "cell_type": "code",
   "execution_count": 17,
   "metadata": {},
   "outputs": [
    {
     "name": "stdout",
     "output_type": "stream",
     "text": [
      "Tests Passed\n"
     ]
    }
   ],
   "source": [
    "def conv2d_maxpool(x_tensor, conv_num_outputs, conv_ksize, conv_strides, pool_ksize, pool_strides):\n",
    "    \"\"\"\n",
    "    Apply convolution then max pooling to x_tensor\n",
    "    :param x_tensor: TensorFlow Tensor\n",
    "    :param conv_num_outputs: Number of outputs for the convolutional layer\n",
    "    :param conv_ksize: kernal size 2-D Tuple for the convolutional layer\n",
    "    :param conv_strides: Stride 2-D Tuple for convolution\n",
    "    :param pool_ksize: kernal size 2-D Tuple for pool\n",
    "    :param pool_strides: Stride 2-D Tuple for pool\n",
    "    : return: A tensor that represents convolution and max pooling of x_tensor\n",
    "    \"\"\"\n",
    "    # TODO: Implement Function\n",
    "    mu = 0\n",
    "    sigma = 0.1\n",
    "    \n",
    "    #convolution kernal size\n",
    "    conv_h, conv_w = conv_ksize\n",
    "    #output depth\n",
    "    output_depth = conv_num_outputs\n",
    "    \n",
    "    #get [B,H,W,C] size, in_batch, in_height, in_weight, & in_depth\n",
    "    in_b, in_h, in_w, in_depth = x_tensor.shape\n",
    "    \n",
    "    ## Filter (weights and bias)\n",
    "    # The shape of the filter weight is (height, width, input_depth, output_depth)\n",
    "    # The shape of the filter bias is (output_depth,)\n",
    "    weight_shape=(int(conv_h), int(conv_w), int(in_depth), int(output_depth))\n",
    "    F_W = tf.Variable(tf.truncated_normal(shape = weight_shape, mean= mu, stddev=sigma))\n",
    "    F_B = tf.Variable(tf.zeros([int(output_depth)]))\n",
    "    \n",
    "    #max pooling kernal\n",
    "    s_h, s_w = conv_strides\n",
    "    padding = 'SAME'\n",
    "    \n",
    "    #convolution \n",
    "    conv = tf.nn.conv2d(x_tensor, \n",
    "                        F_W, \n",
    "                        strides=[1,int(s_h), int(s_w),1], \n",
    "                        padding=padding)\n",
    "    \n",
    "    #ReLU nonlinearization\n",
    "    conv = tf.nn.relu(conv)\n",
    "    pool_h, pool_w = pool_ksize\n",
    "    pool_h_s, pool_w_s = pool_ksize\n",
    "    \n",
    "    #final convolution\n",
    "    conv = tf.nn.max_pool(conv, \n",
    "                          ksize=[1, pool_h, pool_w, 1],\n",
    "                          strides=[1, pool_h_s, pool_w_s, 1],\n",
    "                          padding=padding)\n",
    "        \n",
    "    return conv\n",
    "\n",
    "\n",
    "\"\"\"\n",
    "DON'T MODIFY ANYTHING IN THIS CELL THAT IS BELOW THIS LINE\n",
    "\"\"\"\n",
    "tests.test_con_pool(conv2d_maxpool)"
   ]
  },
  {
   "cell_type": "markdown",
   "metadata": {},
   "source": [
    "### Flatten Layer\n",
    "Implement the `flatten` function to change the dimension of `x_tensor` from a 4-D tensor to a 2-D tensor.  The output should be the shape (*Batch Size*, *Flattened Image Size*). \n",
    "\n",
    "Shortcut Option: you can use classes from the [TensorFlow Layers](https://www.tensorflow.org/api_docs/python/tf/layers) or [TensorFlow Layers (contrib)](https://www.tensorflow.org/api_guides/python/contrib.layers) packages for this layer which help with some high-level features. For more of a challenge, only use other TensorFlow packages."
   ]
  },
  {
   "cell_type": "code",
   "execution_count": 18,
   "metadata": {},
   "outputs": [
    {
     "name": "stdout",
     "output_type": "stream",
     "text": [
      "Tests Passed\n"
     ]
    }
   ],
   "source": [
    "def flatten(x_tensor):\n",
    "    \"\"\"\n",
    "    Flatten x_tensor to (Batch Size, Flattened Image Size)\n",
    "    : x_tensor: A tensor of size (Batch Size, ...), where ... are the image dimensions.\n",
    "    : return: A tensor of size (Batch Size, Flattened Image Size).\n",
    "    \"\"\"\n",
    "    # TODO: Implement Function\n",
    "    \n",
    "    return tf.reshape(x_tensor, [-1, int(x_tensor.shape[1])*int(x_tensor.shape[2])*int(x_tensor.shape[3])])\n",
    "\n",
    "\n",
    "\"\"\"\n",
    "DON'T MODIFY ANYTHING IN THIS CELL THAT IS BELOW THIS LINE\n",
    "\"\"\"\n",
    "tests.test_flatten(flatten)"
   ]
  },
  {
   "cell_type": "markdown",
   "metadata": {},
   "source": [
    "### Fully-Connected Layer\n",
    "Implement the `fully_conn` function to apply a fully connected layer to `x_tensor` with the shape (*Batch Size*, *num_outputs*). \n",
    "\n",
    "Shortcut option: you can use classes from the [TensorFlow Layers](https://www.tensorflow.org/api_docs/python/tf/layers) or [TensorFlow Layers (contrib)](https://www.tensorflow.org/api_guides/python/contrib.layers) packages for this layer. For more of a challenge, only use other TensorFlow packages."
   ]
  },
  {
   "cell_type": "code",
   "execution_count": 19,
   "metadata": {},
   "outputs": [
    {
     "name": "stdout",
     "output_type": "stream",
     "text": [
      "Tests Passed\n"
     ]
    }
   ],
   "source": [
    "def fully_conn(x_tensor, num_outputs):\n",
    "    \"\"\"\n",
    "    Apply a fully connected layer to x_tensor using weight and bias\n",
    "    : x_tensor: A 2-D tensor where the first dimension is batch size.\n",
    "    : num_outputs: The number of output that the new tensor should be.\n",
    "    : return: A 2-D tensor where the second dimension is num_outputs.\n",
    "    \"\"\"\n",
    "    # TODO: Implement Function\n",
    "    \n",
    "    mu = 0\n",
    "    sigma = 0.1\n",
    "    shape=(x_tensor.get_shape().as_list()[1], num_outputs)\n",
    "    w = tf.Variable(tf.random_normal(shape = shape, mean = mu, stddev = sigma))\n",
    "    b = tf.Variable(tf.zeros([num_outputs]))\n",
    "    y = tf.nn.relu(tf.add(tf.matmul(x_tensor, w), b))\n",
    "    return y\n",
    "\n",
    "\n",
    "\"\"\"\n",
    "DON'T MODIFY ANYTHING IN THIS CELL THAT IS BELOW THIS LINE\n",
    "\"\"\"\n",
    "tests.test_fully_conn(fully_conn)"
   ]
  },
  {
   "cell_type": "markdown",
   "metadata": {},
   "source": [
    "### Output Layer\n",
    "Implement the `output` function to apply a fully connected layer to `x_tensor` with the shape (*Batch Size*, *num_outputs*). \n",
    "\n",
    "Shortcut option: you can use classes from the [TensorFlow Layers](https://www.tensorflow.org/api_docs/python/tf/layers) or [TensorFlow Layers (contrib)](https://www.tensorflow.org/api_guides/python/contrib.layers) packages for this layer. For more of a challenge, only use other TensorFlow packages.\n",
    "\n",
    "**Note:** Activation, softmax, or cross entropy should **not** be applied to this."
   ]
  },
  {
   "cell_type": "code",
   "execution_count": 20,
   "metadata": {},
   "outputs": [
    {
     "name": "stdout",
     "output_type": "stream",
     "text": [
      "Tests Passed\n"
     ]
    }
   ],
   "source": [
    "\n",
    "def output(x_tensor, num_outputs):\n",
    "    \"\"\"\n",
    "    Apply a output layer to x_tensor using weight and bias\n",
    "    : x_tensor: A 2-D tensor where the first dimension is batch size.\n",
    "    : num_outputs: The number of output that the new tensor should be.\n",
    "    : return: A 2-D tensor where the second dimension is num_outputs.\n",
    "    \"\"\"\n",
    "    # TODO: Implement Function\n",
    "    mu = 0\n",
    "    sigma = 0.1\n",
    "    shape = (x_tensor.get_shape().as_list()[1], num_outputs)\n",
    "    w = tf.Variable(tf.random_normal(shape = shape, mean = mu, stddev = sigma))\n",
    "    b = tf.Variable(tf.random_normal([num_outputs]))\n",
    "    y = tf.add(tf.matmul(x_tensor, w), b)\n",
    "    \n",
    "    return y\n",
    "\n",
    "\n",
    "\"\"\"\n",
    "DON'T MODIFY ANYTHING IN THIS CELL THAT IS BELOW THIS LINE\n",
    "\"\"\"\n",
    "tests.test_output(output)"
   ]
  },
  {
   "cell_type": "markdown",
   "metadata": {},
   "source": [
    "### Create Convolutional Model\n",
    "Implement the function `conv_net` to create a convolutional neural network model. The function takes in a batch of images, `x`, and outputs logits.  Use the layers you created above to create this model:\n",
    "\n",
    "* Apply 1, 2, or 3 Convolution and Max Pool layers\n",
    "* Apply a Flatten Layer\n",
    "* Apply 1, 2, or 3 Fully Connected Layers\n",
    "* Apply an Output Layer\n",
    "* Return the output\n",
    "* Apply [TensorFlow's Dropout](https://www.tensorflow.org/api_docs/python/tf/nn/dropout) to one or more layers in the model using `keep_prob`. "
   ]
  },
  {
   "cell_type": "code",
   "execution_count": 21,
   "metadata": {},
   "outputs": [
    {
     "name": "stdout",
     "output_type": "stream",
     "text": [
      "Neural Network Built!\n"
     ]
    }
   ],
   "source": [
    "def conv_net(x, keep_prob):\n",
    "    \"\"\"\n",
    "    Create a convolutional neural network model\n",
    "    : x: Placeholder tensor that holds image data.\n",
    "    : keep_prob: Placeholder tensor that hold dropout keep probability.\n",
    "    : return: Tensor that represents logits\n",
    "    \"\"\"\n",
    "    # TODO: Apply 1, 2, or 3 Convolution and Max Pool layers\n",
    "    #    Play around with different number of outputs, kernel size and stride\n",
    "    # Function Definition from Above:\n",
    "    #    conv2d_maxpool(x_tensor, conv_num_outputs, conv_ksize, conv_strides, pool_ksize, pool_strides)\n",
    "    conv1 = conv2d_maxpool(x_tensor=x,\n",
    "                           conv_num_outputs=6,\n",
    "                           conv_ksize=(5,5),\n",
    "                           conv_strides=(1,1),\n",
    "                           pool_ksize=(2,2),\n",
    "                           pool_strides=(2,2))\n",
    "    \n",
    "    conv2 = conv2d_maxpool(x_tensor=conv1,\n",
    "                           conv_num_outputs=16,\n",
    "                           conv_ksize=(5,5),\n",
    "                           conv_strides=(1,1),\n",
    "                           pool_ksize=(2,2),\n",
    "                           pool_strides=(2,2))\n",
    "    \n",
    "    \n",
    "    # TODO: Apply a Flatten Layer\n",
    "    # Function Definition from Above:\n",
    "    #   flatten(x_tensor)\n",
    "    flat_layer = flatten(conv2)\n",
    "\n",
    "    # TODO: Apply 1, 2, or 3 Fully Connected Layers\n",
    "    #    Play around with different number of outputs\n",
    "    # Function Definition from Above:\n",
    "    #   fully_conn(x_tensor, num_outputs)\n",
    "    fc1 = fully_conn(flat_layer, 120)\n",
    "    fc1 = tf.nn.dropout(fc1, keep_prob)\n",
    "    \n",
    "    fc2 = fully_conn(fc1, 84)\n",
    "    fc2 = tf.nn.dropout(fc2, keep_prob)\n",
    "    \n",
    "    # TODO: Apply an Output Layer\n",
    "    #    Set this to the number of classes\n",
    "    # Function Definition from Above:\n",
    "    #   output(x_tensor, num_outputs)\n",
    "    output_layer = output(fc2, 10)\n",
    "    # TODO: return output\n",
    "    return output_layer\n",
    "\n",
    "\n",
    "\"\"\"\n",
    "DON'T MODIFY ANYTHING IN THIS CELL THAT IS BELOW THIS LINE\n",
    "\"\"\"\n",
    "\n",
    "##############################\n",
    "## Build the Neural Network ##\n",
    "##############################\n",
    "\n",
    "# Remove previous weights, bias, inputs, etc..\n",
    "tf.reset_default_graph()\n",
    "\n",
    "# Inputs\n",
    "x = neural_net_image_input((28, 28, 1))\n",
    "y = neural_net_label_input(10)\n",
    "keep_prob = neural_net_keep_prob_input()\n",
    "\n",
    "# Model\n",
    "logits = conv_net(x, keep_prob)\n",
    "\n",
    "# Name logits Tensor, so that is can be loaded from disk after training\n",
    "logits = tf.identity(logits, name='logits')\n",
    "\n",
    "# Loss and Optimizer\n",
    "cost = tf.reduce_mean(tf.nn.softmax_cross_entropy_with_logits(logits=logits, labels=y))\n",
    "optimizer = tf.train.AdamOptimizer().minimize(cost)\n",
    "\n",
    "# Accuracy\n",
    "correct_pred = tf.equal(tf.argmax(logits, 1), tf.argmax(y, 1))\n",
    "accuracy = tf.reduce_mean(tf.cast(correct_pred, tf.float32), name='accuracy')\n",
    "\n",
    "tests.test_conv_net(conv_net)"
   ]
  },
  {
   "cell_type": "markdown",
   "metadata": {},
   "source": [
    "## Train the Neural Network\n",
    "### Single Optimization\n",
    "Implement the function `train_neural_network` to do a single optimization.  The optimization should use `optimizer` to optimize in `session` with a `feed_dict` of the following:\n",
    "* `x` for image input\n",
    "* `y` for labels\n",
    "* `keep_prob` for keep probability for dropout\n",
    "\n",
    "This function will be called for each batch, so `tf.global_variables_initializer()` has already been called.\n",
    "\n",
    "Note: Nothing needs to be returned. This function is only optimizing the neural network."
   ]
  },
  {
   "cell_type": "code",
   "execution_count": 22,
   "metadata": {},
   "outputs": [
    {
     "name": "stdout",
     "output_type": "stream",
     "text": [
      "Tests Passed\n"
     ]
    }
   ],
   "source": [
    "\n",
    "def train_neural_network(session, optimizer, keep_probability, feature_batch, label_batch):\n",
    "    \"\"\"\n",
    "    Optimize the session on a batch of images and labels\n",
    "    : session: Current TensorFlow session\n",
    "    : optimizer: TensorFlow optimizer function\n",
    "    : keep_probability: keep probability\n",
    "    : feature_batch: Batch of Numpy image data\n",
    "    : label_batch: Batch of Numpy label data\n",
    "    \"\"\"\n",
    "    # TODO: Implement Function\n",
    "\n",
    "    session.run(optimizer, feed_dict={x: feature_batch, y: label_batch, keep_prob: keep_probability})\n",
    "    \n",
    "\"\"\"\n",
    "DON'T MODIFY ANYTHING IN THIS CELL THAT IS BELOW THIS LINE\n",
    "\"\"\"\n",
    "tests.test_train_nn(train_neural_network)"
   ]
  },
  {
   "cell_type": "markdown",
   "metadata": {},
   "source": [
    "### Show Stats\n",
    "Implement the function `print_stats` to print loss and validation accuracy.  Use the global variables `valid_features` and `valid_labels` to calculate validation accuracy.  Use a keep probability of `1.0` to calculate the loss and validation accuracy."
   ]
  },
  {
   "cell_type": "code",
   "execution_count": 23,
   "metadata": {
    "collapsed": true
   },
   "outputs": [],
   "source": [
    "def print_stats(session, feature_batch, label_batch, cost, accuracy):\n",
    "    \"\"\"\n",
    "    Print information about loss and validation accuracy\n",
    "    : session: Current TensorFlow session\n",
    "    : feature_batch: Batch of Numpy image data\n",
    "    : label_batch: Batch of Numpy label data\n",
    "    : cost: TensorFlow cost function\n",
    "    : accuracy: TensorFlow accuracy function\n",
    "    \"\"\"\n",
    "    # TODO: Implement Function\n",
    "    l = session.run(cost, feed_dict={x: feature_batch, y: label_batch, keep_prob: 1.0})\n",
    "    validation_accuracy = session.run(accuracy, feed_dict={x: valid_features, y: valid_labels, keep_prob: 1.0})\n",
    "    \n",
    "    print(\"The loss is: {0}, and the Validation Accuracy is: {1}\".format(l, validation_accuracy))"
   ]
  },
  {
   "cell_type": "markdown",
   "metadata": {},
   "source": [
    "### Hyperparameters\n",
    "Tune the following parameters:\n",
    "* Set `epochs` to the number of iterations until the network stops learning or start overfitting\n",
    "* Set `batch_size` to the highest number that your machine has memory for.  Most people set them to common sizes of memory:\n",
    " * 64\n",
    " * 128\n",
    " * 256\n",
    " * ...\n",
    "* Set `keep_probability` to the probability of keeping a node using dropout"
   ]
  },
  {
   "cell_type": "code",
   "execution_count": 24,
   "metadata": {
    "collapsed": true
   },
   "outputs": [],
   "source": [
    "# TODO: Tune Parameters\n",
    "epochs = 300\n",
    "batch_size = 8192\n",
    "keep_probability = 0.5"
   ]
  },
  {
   "cell_type": "markdown",
   "metadata": {},
   "source": [
    "### Train the Model\n",
    "Now that you have your model built and your hyperparameters defined, let's train it!"
   ]
  },
  {
   "cell_type": "code",
   "execution_count": 25,
   "metadata": {},
   "outputs": [
    {
     "name": "stdout",
     "output_type": "stream",
     "text": [
      "Epoch  1:  The loss is: 2.178346633911133, and the Validation Accuracy is: 0.32716667652130127\n",
      "Epoch  2:  The loss is: 1.8188307285308838, and the Validation Accuracy is: 0.46149998903274536\n",
      "Epoch  3:  The loss is: 1.4440189599990845, and the Validation Accuracy is: 0.5456666946411133\n",
      "Epoch  4:  The loss is: 1.1654139757156372, and the Validation Accuracy is: 0.6066666841506958\n",
      "Epoch  5:  The loss is: 0.9646191596984863, and the Validation Accuracy is: 0.7008333206176758\n",
      "Epoch  6:  The loss is: 0.829704999923706, and the Validation Accuracy is: 0.7238333225250244\n",
      "Epoch  7:  The loss is: 0.735697329044342, and the Validation Accuracy is: 0.7528333067893982\n",
      "Epoch  8:  The loss is: 0.6735175848007202, and the Validation Accuracy is: 0.7638333439826965\n",
      "Epoch  9:  The loss is: 0.631218433380127, and the Validation Accuracy is: 0.7710000276565552\n",
      "Epoch 10:  The loss is: 0.5964270830154419, and the Validation Accuracy is: 0.7803333401679993\n",
      "Epoch 11:  The loss is: 0.5720574259757996, and the Validation Accuracy is: 0.7868333458900452\n",
      "Epoch 12:  The loss is: 0.5469046235084534, and the Validation Accuracy is: 0.7925000190734863\n",
      "Epoch 13:  The loss is: 0.5279110670089722, and the Validation Accuracy is: 0.7985000014305115\n",
      "Epoch 14:  The loss is: 0.5136629939079285, and the Validation Accuracy is: 0.8019999861717224\n",
      "Epoch 15:  The loss is: 0.49728700518608093, and the Validation Accuracy is: 0.8078333139419556\n",
      "Epoch 16:  The loss is: 0.48199403285980225, and the Validation Accuracy is: 0.815500020980835\n",
      "Epoch 17:  The loss is: 0.47241708636283875, and the Validation Accuracy is: 0.8233333230018616\n",
      "Epoch 18:  The loss is: 0.4631694257259369, and the Validation Accuracy is: 0.8263333439826965\n",
      "Epoch 19:  The loss is: 0.44823458790779114, and the Validation Accuracy is: 0.8383333086967468\n",
      "Epoch 20:  The loss is: 0.44032037258148193, and the Validation Accuracy is: 0.8423333168029785\n",
      "Epoch 21:  The loss is: 0.4343228340148926, and the Validation Accuracy is: 0.8431666493415833\n",
      "Epoch 22:  The loss is: 0.42604774236679077, and the Validation Accuracy is: 0.8458333611488342\n",
      "Epoch 23:  The loss is: 0.41798365116119385, and the Validation Accuracy is: 0.8508333563804626\n",
      "Epoch 24:  The loss is: 0.4102307856082916, and the Validation Accuracy is: 0.8514999747276306\n",
      "Epoch 25:  The loss is: 0.40590474009513855, and the Validation Accuracy is: 0.8535000085830688\n",
      "Epoch 26:  The loss is: 0.3969714939594269, and the Validation Accuracy is: 0.8553333282470703\n",
      "Epoch 27:  The loss is: 0.39196521043777466, and the Validation Accuracy is: 0.8588333129882812\n",
      "Epoch 28:  The loss is: 0.3866345286369324, and the Validation Accuracy is: 0.8608333468437195\n",
      "Epoch 29:  The loss is: 0.38146981596946716, and the Validation Accuracy is: 0.8601666688919067\n",
      "Epoch 30:  The loss is: 0.37506571412086487, and the Validation Accuracy is: 0.8616666793823242\n",
      "Epoch 31:  The loss is: 0.37231123447418213, and the Validation Accuracy is: 0.8638333082199097\n",
      "Epoch 32:  The loss is: 0.36752423644065857, and the Validation Accuracy is: 0.8618333339691162\n",
      "Epoch 33:  The loss is: 0.36427628993988037, and the Validation Accuracy is: 0.8656666874885559\n",
      "Epoch 34:  The loss is: 0.36216267943382263, and the Validation Accuracy is: 0.8656666874885559\n",
      "Epoch 35:  The loss is: 0.36054274439811707, and the Validation Accuracy is: 0.8668333292007446\n",
      "Epoch 36:  The loss is: 0.35168740153312683, and the Validation Accuracy is: 0.8668333292007446\n",
      "Epoch 37:  The loss is: 0.3471803069114685, and the Validation Accuracy is: 0.8686666488647461\n",
      "Epoch 38:  The loss is: 0.3411797881126404, and the Validation Accuracy is: 0.8679999709129333\n",
      "Epoch 39:  The loss is: 0.34039005637168884, and the Validation Accuracy is: 0.8684999942779541\n",
      "Epoch 40:  The loss is: 0.33586567640304565, and the Validation Accuracy is: 0.8713333606719971\n",
      "Epoch 41:  The loss is: 0.3335755467414856, and the Validation Accuracy is: 0.871999979019165\n",
      "Epoch 42:  The loss is: 0.33108389377593994, and the Validation Accuracy is: 0.8721666932106018\n",
      "Epoch 43:  The loss is: 0.32835397124290466, and the Validation Accuracy is: 0.8730000257492065\n",
      "Epoch 44:  The loss is: 0.3246229588985443, and the Validation Accuracy is: 0.8738333582878113\n",
      "Epoch 45:  The loss is: 0.32235467433929443, and the Validation Accuracy is: 0.8741666674613953\n",
      "Epoch 46:  The loss is: 0.31715092062950134, and the Validation Accuracy is: 0.8759999871253967\n",
      "Epoch 47:  The loss is: 0.3141060471534729, and the Validation Accuracy is: 0.8765000104904175\n",
      "Epoch 48:  The loss is: 0.3116249144077301, and the Validation Accuracy is: 0.8769999742507935\n",
      "Epoch 49:  The loss is: 0.31158480048179626, and the Validation Accuracy is: 0.878333330154419\n",
      "Epoch 50:  The loss is: 0.3084774315357208, and the Validation Accuracy is: 0.878333330154419\n",
      "Epoch 51:  The loss is: 0.30549827218055725, and the Validation Accuracy is: 0.8778333067893982\n",
      "Epoch 52:  The loss is: 0.30299022793769836, and the Validation Accuracy is: 0.878333330154419\n",
      "Epoch 53:  The loss is: 0.3013319969177246, and the Validation Accuracy is: 0.8809999823570251\n",
      "Epoch 54:  The loss is: 0.2983129620552063, and the Validation Accuracy is: 0.8803333044052124\n",
      "Epoch 55:  The loss is: 0.29585567116737366, and the Validation Accuracy is: 0.8803333044052124\n",
      "Epoch 56:  The loss is: 0.29364442825317383, and the Validation Accuracy is: 0.8808333277702332\n",
      "Epoch 57:  The loss is: 0.29105791449546814, and the Validation Accuracy is: 0.8821666836738586\n",
      "Epoch 58:  The loss is: 0.2910241484642029, and the Validation Accuracy is: 0.8805000185966492\n",
      "Epoch 59:  The loss is: 0.2880040407180786, and the Validation Accuracy is: 0.8816666603088379\n",
      "Epoch 60:  The loss is: 0.2893904447555542, and the Validation Accuracy is: 0.8793333172798157\n",
      "Epoch 61:  The loss is: 0.2870827317237854, and the Validation Accuracy is: 0.8824999928474426\n",
      "Epoch 62:  The loss is: 0.28601375222206116, and the Validation Accuracy is: 0.8823333382606506\n",
      "Epoch 63:  The loss is: 0.2809876501560211, and the Validation Accuracy is: 0.8841666579246521\n",
      "Epoch 64:  The loss is: 0.28255167603492737, and the Validation Accuracy is: 0.8820000290870667\n",
      "Epoch 65:  The loss is: 0.2791013717651367, and the Validation Accuracy is: 0.8824999928474426\n",
      "Epoch 66:  The loss is: 0.2782999873161316, and the Validation Accuracy is: 0.8838333487510681\n",
      "Epoch 67:  The loss is: 0.27798783779144287, and the Validation Accuracy is: 0.8840000033378601\n",
      "Epoch 68:  The loss is: 0.2738766372203827, and the Validation Accuracy is: 0.8840000033378601\n",
      "Epoch 69:  The loss is: 0.27339932322502136, and the Validation Accuracy is: 0.887333333492279\n",
      "Epoch 70:  The loss is: 0.26988083124160767, and the Validation Accuracy is: 0.887666642665863\n",
      "Epoch 71:  The loss is: 0.26737797260284424, and the Validation Accuracy is: 0.8868333101272583\n",
      "Epoch 72:  The loss is: 0.2680356800556183, and the Validation Accuracy is: 0.8870000243186951\n",
      "Epoch 73:  The loss is: 0.26351872086524963, and the Validation Accuracy is: 0.8891666531562805\n",
      "Epoch 74:  The loss is: 0.26505982875823975, and the Validation Accuracy is: 0.8878333568572998\n",
      "Epoch 75:  The loss is: 0.2624248266220093, and the Validation Accuracy is: 0.8883333206176758\n",
      "Epoch 76:  The loss is: 0.2609984576702118, and the Validation Accuracy is: 0.8895000219345093\n",
      "Epoch 77:  The loss is: 0.2595931887626648, and the Validation Accuracy is: 0.8899999856948853\n",
      "Epoch 78:  The loss is: 0.2544565796852112, and the Validation Accuracy is: 0.890500009059906\n",
      "Epoch 79:  The loss is: 0.2549426853656769, and the Validation Accuracy is: 0.890500009059906\n",
      "Epoch 80:  The loss is: 0.2538366913795471, and the Validation Accuracy is: 0.89083331823349\n",
      "Epoch 81:  The loss is: 0.25381651520729065, and the Validation Accuracy is: 0.8916666507720947\n",
      "Epoch 82:  The loss is: 0.25169649720191956, and the Validation Accuracy is: 0.8911666870117188\n",
      "Epoch 83:  The loss is: 0.24889099597930908, and the Validation Accuracy is: 0.8941666483879089\n",
      "Epoch 84:  The loss is: 0.24779613316059113, and the Validation Accuracy is: 0.8933333158493042\n",
      "Epoch 85:  The loss is: 0.24902383983135223, and the Validation Accuracy is: 0.890999972820282\n",
      "Epoch 86:  The loss is: 0.24712948501110077, and the Validation Accuracy is: 0.8933333158493042\n"
     ]
    },
    {
     "name": "stdout",
     "output_type": "stream",
     "text": [
      "Epoch 87:  The loss is: 0.24422119557857513, and the Validation Accuracy is: 0.8933333158493042\n",
      "Epoch 88:  The loss is: 0.24737146496772766, and the Validation Accuracy is: 0.8928333520889282\n",
      "Epoch 89:  The loss is: 0.24505454301834106, and the Validation Accuracy is: 0.8923333287239075\n",
      "Epoch 90:  The loss is: 0.24203048646450043, and the Validation Accuracy is: 0.8946666717529297\n",
      "Epoch 91:  The loss is: 0.2396875023841858, and the Validation Accuracy is: 0.8933333158493042\n",
      "Epoch 92:  The loss is: 0.23880407214164734, and the Validation Accuracy is: 0.8933333158493042\n",
      "Epoch 93:  The loss is: 0.2382684350013733, and the Validation Accuracy is: 0.8939999938011169\n",
      "Epoch 94:  The loss is: 0.23782052099704742, and the Validation Accuracy is: 0.8949999809265137\n",
      "Epoch 95:  The loss is: 0.23692025244235992, and the Validation Accuracy is: 0.8946666717529297\n",
      "Epoch 96:  The loss is: 0.23336872458457947, and the Validation Accuracy is: 0.8961666822433472\n",
      "Epoch 97:  The loss is: 0.2340659648180008, and the Validation Accuracy is: 0.8956666588783264\n",
      "Epoch 98:  The loss is: 0.23428498208522797, and the Validation Accuracy is: 0.8964999914169312\n",
      "Epoch 99:  The loss is: 0.2307415008544922, and the Validation Accuracy is: 0.8958333134651184\n",
      "Epoch 100:  The loss is: 0.22941654920578003, and the Validation Accuracy is: 0.8985000252723694\n",
      "Epoch 101:  The loss is: 0.22957870364189148, and the Validation Accuracy is: 0.8976666927337646\n",
      "Epoch 102:  The loss is: 0.22849389910697937, and the Validation Accuracy is: 0.8978333473205566\n",
      "Epoch 103:  The loss is: 0.22692155838012695, and the Validation Accuracy is: 0.8978333473205566\n",
      "Epoch 104:  The loss is: 0.22722475230693817, and the Validation Accuracy is: 0.8980000019073486\n",
      "Epoch 105:  The loss is: 0.22697167098522186, and the Validation Accuracy is: 0.8973333239555359\n",
      "Epoch 106:  The loss is: 0.22496375441551208, and the Validation Accuracy is: 0.8976666927337646\n",
      "Epoch 107:  The loss is: 0.2235250473022461, and the Validation Accuracy is: 0.8983333110809326\n",
      "Epoch 108:  The loss is: 0.2236699014902115, and the Validation Accuracy is: 0.9013333320617676\n",
      "Epoch 109:  The loss is: 0.22141288220882416, and the Validation Accuracy is: 0.9010000228881836\n",
      "Epoch 110:  The loss is: 0.2228655368089676, and the Validation Accuracy is: 0.9013333320617676\n",
      "Epoch 111:  The loss is: 0.22003166377544403, and the Validation Accuracy is: 0.9010000228881836\n",
      "Epoch 112:  The loss is: 0.22234226763248444, and the Validation Accuracy is: 0.9021666646003723\n",
      "Epoch 113:  The loss is: 0.21909238398075104, and the Validation Accuracy is: 0.9010000228881836\n",
      "Epoch 114:  The loss is: 0.21845346689224243, and the Validation Accuracy is: 0.8988333344459534\n",
      "Epoch 115:  The loss is: 0.21554937958717346, and the Validation Accuracy is: 0.9039999842643738\n",
      "Epoch 116:  The loss is: 0.21451620757579803, and the Validation Accuracy is: 0.9018333554267883\n",
      "Epoch 117:  The loss is: 0.21336057782173157, and the Validation Accuracy is: 0.9028333425521851\n",
      "Epoch 118:  The loss is: 0.2126518189907074, and the Validation Accuracy is: 0.9013333320617676\n",
      "Epoch 119:  The loss is: 0.2117943912744522, and the Validation Accuracy is: 0.9023333191871643\n",
      "Epoch 120:  The loss is: 0.21344220638275146, and the Validation Accuracy is: 0.8998333215713501\n",
      "Epoch 121:  The loss is: 0.2107027918100357, and the Validation Accuracy is: 0.9026666879653931\n",
      "Epoch 122:  The loss is: 0.2095351219177246, and the Validation Accuracy is: 0.9020000100135803\n",
      "Epoch 123:  The loss is: 0.20666350424289703, and the Validation Accuracy is: 0.9041666388511658\n",
      "Epoch 124:  The loss is: 0.2071465402841568, and the Validation Accuracy is: 0.9048333168029785\n",
      "Epoch 125:  The loss is: 0.2054058313369751, and the Validation Accuracy is: 0.903333306312561\n",
      "Epoch 126:  The loss is: 0.20224809646606445, and the Validation Accuracy is: 0.9058333039283752\n",
      "Epoch 127:  The loss is: 0.20276235044002533, and the Validation Accuracy is: 0.9038333296775818\n",
      "Epoch 128:  The loss is: 0.20219667255878448, and the Validation Accuracy is: 0.906499981880188\n",
      "Epoch 129:  The loss is: 0.20089079439640045, and the Validation Accuracy is: 0.9056666493415833\n",
      "Epoch 130:  The loss is: 0.1985766440629959, and the Validation Accuracy is: 0.9048333168029785\n",
      "Epoch 131:  The loss is: 0.20065708458423615, and the Validation Accuracy is: 0.9046666622161865\n",
      "Epoch 132:  The loss is: 0.19801652431488037, and the Validation Accuracy is: 0.9058333039283752\n",
      "Epoch 133:  The loss is: 0.1977391541004181, and the Validation Accuracy is: 0.9048333168029785\n",
      "Epoch 134:  The loss is: 0.19553664326667786, and the Validation Accuracy is: 0.9046666622161865\n",
      "Epoch 135:  The loss is: 0.19691960513591766, and the Validation Accuracy is: 0.906499981880188\n",
      "Epoch 136:  The loss is: 0.1931874305009842, and the Validation Accuracy is: 0.9056666493415833\n",
      "Epoch 137:  The loss is: 0.193047434091568, and the Validation Accuracy is: 0.9073333144187927\n",
      "Epoch 138:  The loss is: 0.19130580127239227, and the Validation Accuracy is: 0.9053333401679993\n",
      "Epoch 139:  The loss is: 0.19118168950080872, and the Validation Accuracy is: 0.9056666493415833\n",
      "Epoch 140:  The loss is: 0.19230590760707855, and the Validation Accuracy is: 0.906166672706604\n",
      "Epoch 141:  The loss is: 0.19049395620822906, and the Validation Accuracy is: 0.9076666831970215\n",
      "Epoch 142:  The loss is: 0.1886344850063324, and the Validation Accuracy is: 0.9071666598320007\n",
      "Epoch 143:  The loss is: 0.18890032172203064, and the Validation Accuracy is: 0.906499981880188\n",
      "Epoch 144:  The loss is: 0.1878805160522461, and the Validation Accuracy is: 0.906000018119812\n",
      "Epoch 145:  The loss is: 0.18556855618953705, and the Validation Accuracy is: 0.9076666831970215\n",
      "Epoch 146:  The loss is: 0.1866815835237503, and the Validation Accuracy is: 0.9068333506584167\n",
      "Epoch 147:  The loss is: 0.18436820805072784, and the Validation Accuracy is: 0.906166672706604\n",
      "Epoch 148:  The loss is: 0.1846037209033966, and the Validation Accuracy is: 0.9073333144187927\n",
      "Epoch 149:  The loss is: 0.18464131653308868, and the Validation Accuracy is: 0.9085000157356262\n",
      "Epoch 150:  The loss is: 0.1838521659374237, and the Validation Accuracy is: 0.9078333377838135\n",
      "Epoch 151:  The loss is: 0.18332311511039734, and the Validation Accuracy is: 0.9070000052452087\n",
      "Epoch 152:  The loss is: 0.18118363618850708, and the Validation Accuracy is: 0.9101666808128357\n",
      "Epoch 153:  The loss is: 0.18059958517551422, and the Validation Accuracy is: 0.9078333377838135\n",
      "Epoch 154:  The loss is: 0.1788427084684372, and the Validation Accuracy is: 0.9076666831970215\n",
      "Epoch 155:  The loss is: 0.17881354689598083, and the Validation Accuracy is: 0.9070000052452087\n",
      "Epoch 156:  The loss is: 0.17672061920166016, and the Validation Accuracy is: 0.9076666831970215\n",
      "Epoch 157:  The loss is: 0.17769557237625122, and the Validation Accuracy is: 0.9101666808128357\n",
      "Epoch 158:  The loss is: 0.17394982278347015, and the Validation Accuracy is: 0.9103333353996277\n",
      "Epoch 159:  The loss is: 0.17682626843452454, and the Validation Accuracy is: 0.9071666598320007\n",
      "Epoch 160:  The loss is: 0.17551840841770172, and the Validation Accuracy is: 0.9083333611488342\n",
      "Epoch 161:  The loss is: 0.17384585738182068, and the Validation Accuracy is: 0.9104999899864197\n",
      "Epoch 162:  The loss is: 0.1736774444580078, and the Validation Accuracy is: 0.9088333249092102\n",
      "Epoch 163:  The loss is: 0.1721462607383728, and the Validation Accuracy is: 0.9085000157356262\n",
      "Epoch 164:  The loss is: 0.1718917191028595, and the Validation Accuracy is: 0.9098333120346069\n",
      "Epoch 165:  The loss is: 0.17268820106983185, and the Validation Accuracy is: 0.9078333377838135\n",
      "Epoch 166:  The loss is: 0.1704532653093338, and the Validation Accuracy is: 0.9083333611488342\n",
      "Epoch 167:  The loss is: 0.16954191029071808, and the Validation Accuracy is: 0.9106666445732117\n",
      "Epoch 168:  The loss is: 0.17037726938724518, and the Validation Accuracy is: 0.9071666598320007\n",
      "Epoch 169:  The loss is: 0.16696828603744507, and the Validation Accuracy is: 0.9103333353996277\n",
      "Epoch 170:  The loss is: 0.16923098266124725, and the Validation Accuracy is: 0.9114999771118164\n",
      "Epoch 171:  The loss is: 0.1687452644109726, and the Validation Accuracy is: 0.909500002861023\n"
     ]
    },
    {
     "name": "stdout",
     "output_type": "stream",
     "text": [
      "Epoch 172:  The loss is: 0.16838912665843964, and the Validation Accuracy is: 0.9070000052452087\n",
      "Epoch 173:  The loss is: 0.16547060012817383, and the Validation Accuracy is: 0.9089999794960022\n",
      "Epoch 174:  The loss is: 0.16624414920806885, and the Validation Accuracy is: 0.9110000133514404\n",
      "Epoch 175:  The loss is: 0.16434019804000854, and the Validation Accuracy is: 0.9101666808128357\n",
      "Epoch 176:  The loss is: 0.16283084452152252, and the Validation Accuracy is: 0.909333348274231\n",
      "Epoch 177:  The loss is: 0.16297996044158936, and the Validation Accuracy is: 0.9098333120346069\n",
      "Epoch 178:  The loss is: 0.16017448902130127, and the Validation Accuracy is: 0.9100000262260437\n",
      "Epoch 179:  The loss is: 0.16095583140850067, and the Validation Accuracy is: 0.9098333120346069\n",
      "Epoch 180:  The loss is: 0.16211892664432526, and the Validation Accuracy is: 0.9085000157356262\n",
      "Epoch 181:  The loss is: 0.16089966893196106, and the Validation Accuracy is: 0.9100000262260437\n",
      "Epoch 182:  The loss is: 0.15979281067848206, and the Validation Accuracy is: 0.9110000133514404\n",
      "Epoch 183:  The loss is: 0.16001008450984955, and the Validation Accuracy is: 0.9104999899864197\n",
      "Epoch 184:  The loss is: 0.1589411348104477, and the Validation Accuracy is: 0.9108333587646484\n",
      "Epoch 185:  The loss is: 0.15682074427604675, and the Validation Accuracy is: 0.9103333353996277\n",
      "Epoch 186:  The loss is: 0.15697185695171356, and the Validation Accuracy is: 0.9114999771118164\n",
      "Epoch 187:  The loss is: 0.15747672319412231, and the Validation Accuracy is: 0.9108333587646484\n",
      "Epoch 188:  The loss is: 0.15536360442638397, and the Validation Accuracy is: 0.9108333587646484\n",
      "Epoch 189:  The loss is: 0.15721774101257324, and the Validation Accuracy is: 0.9111666679382324\n",
      "Epoch 190:  The loss is: 0.15407519042491913, and the Validation Accuracy is: 0.9104999899864197\n",
      "Epoch 191:  The loss is: 0.1539369821548462, and the Validation Accuracy is: 0.9103333353996277\n",
      "Epoch 192:  The loss is: 0.1544201821088791, and the Validation Accuracy is: 0.9111666679382324\n",
      "Epoch 193:  The loss is: 0.15321692824363708, and the Validation Accuracy is: 0.9114999771118164\n",
      "Epoch 194:  The loss is: 0.15555649995803833, and the Validation Accuracy is: 0.9098333120346069\n",
      "Epoch 195:  The loss is: 0.1502559632062912, and the Validation Accuracy is: 0.9113333225250244\n",
      "Epoch 196:  The loss is: 0.1522144377231598, and the Validation Accuracy is: 0.9116666913032532\n",
      "Epoch 197:  The loss is: 0.1490485966205597, and the Validation Accuracy is: 0.9114999771118164\n",
      "Epoch 198:  The loss is: 0.15142123401165009, and the Validation Accuracy is: 0.9120000004768372\n",
      "Epoch 199:  The loss is: 0.1490921527147293, and the Validation Accuracy is: 0.9123333096504211\n",
      "Epoch 200:  The loss is: 0.1487535685300827, and the Validation Accuracy is: 0.9120000004768372\n",
      "Epoch 201:  The loss is: 0.1498766839504242, and the Validation Accuracy is: 0.9116666913032532\n",
      "Epoch 202:  The loss is: 0.1464775651693344, and the Validation Accuracy is: 0.9118333458900452\n",
      "Epoch 203:  The loss is: 0.1469077616930008, and the Validation Accuracy is: 0.9126666784286499\n",
      "Epoch 204:  The loss is: 0.14528769254684448, and the Validation Accuracy is: 0.9123333096504211\n",
      "Epoch 205:  The loss is: 0.14454719424247742, and the Validation Accuracy is: 0.9126666784286499\n",
      "Epoch 206:  The loss is: 0.14619621634483337, and the Validation Accuracy is: 0.9123333096504211\n",
      "Epoch 207:  The loss is: 0.14409486949443817, and the Validation Accuracy is: 0.9126666784286499\n",
      "Epoch 208:  The loss is: 0.14345765113830566, and the Validation Accuracy is: 0.9125000238418579\n",
      "Epoch 209:  The loss is: 0.14225147664546967, and the Validation Accuracy is: 0.9133333563804626\n",
      "Epoch 210:  The loss is: 0.14298957586288452, and the Validation Accuracy is: 0.9126666784286499\n",
      "Epoch 211:  The loss is: 0.14183011651039124, and the Validation Accuracy is: 0.9121666550636292\n",
      "Epoch 212:  The loss is: 0.14020995795726776, and the Validation Accuracy is: 0.9144999980926514\n",
      "Epoch 213:  The loss is: 0.14326529204845428, and the Validation Accuracy is: 0.9128333330154419\n",
      "Epoch 214:  The loss is: 0.13909652829170227, and the Validation Accuracy is: 0.9146666526794434\n",
      "Epoch 215:  The loss is: 0.139361172914505, and the Validation Accuracy is: 0.9146666526794434\n",
      "Epoch 216:  The loss is: 0.13880684971809387, and the Validation Accuracy is: 0.9114999771118164\n",
      "Epoch 217:  The loss is: 0.13825374841690063, and the Validation Accuracy is: 0.9143333435058594\n",
      "Epoch 218:  The loss is: 0.1394328474998474, and the Validation Accuracy is: 0.9123333096504211\n",
      "Epoch 219:  The loss is: 0.13809362053871155, and the Validation Accuracy is: 0.9144999980926514\n",
      "Epoch 220:  The loss is: 0.13554787635803223, and the Validation Accuracy is: 0.9139999747276306\n",
      "Epoch 221:  The loss is: 0.13397015631198883, and the Validation Accuracy is: 0.9150000214576721\n",
      "Epoch 222:  The loss is: 0.1348382830619812, and the Validation Accuracy is: 0.9158333539962769\n",
      "Epoch 223:  The loss is: 0.1370929777622223, and the Validation Accuracy is: 0.9121666550636292\n",
      "Epoch 224:  The loss is: 0.13851813971996307, and the Validation Accuracy is: 0.9139999747276306\n",
      "Epoch 225:  The loss is: 0.1330135613679886, and the Validation Accuracy is: 0.9156666398048401\n",
      "Epoch 226:  The loss is: 0.13207407295703888, and the Validation Accuracy is: 0.9150000214576721\n",
      "Epoch 227:  The loss is: 0.13257597386837006, and the Validation Accuracy is: 0.9146666526794434\n",
      "Epoch 228:  The loss is: 0.13383440673351288, and the Validation Accuracy is: 0.9135000109672546\n",
      "Epoch 229:  The loss is: 0.13198930025100708, and the Validation Accuracy is: 0.9151666760444641\n",
      "Epoch 230:  The loss is: 0.13331641256809235, and the Validation Accuracy is: 0.9143333435058594\n",
      "Epoch 231:  The loss is: 0.13254687190055847, and the Validation Accuracy is: 0.9135000109672546\n",
      "Epoch 232:  The loss is: 0.1368023008108139, and the Validation Accuracy is: 0.9120000004768372\n",
      "Epoch 233:  The loss is: 0.13249571621418, and the Validation Accuracy is: 0.9146666526794434\n",
      "Epoch 234:  The loss is: 0.13053491711616516, and the Validation Accuracy is: 0.9138333201408386\n",
      "Epoch 235:  The loss is: 0.13098834455013275, and the Validation Accuracy is: 0.9133333563804626\n",
      "Epoch 236:  The loss is: 0.13020385801792145, and the Validation Accuracy is: 0.9148333072662354\n",
      "Epoch 237:  The loss is: 0.1302226036787033, and the Validation Accuracy is: 0.9158333539962769\n",
      "Epoch 238:  The loss is: 0.12689661979675293, and the Validation Accuracy is: 0.9158333539962769\n",
      "Epoch 239:  The loss is: 0.12715528905391693, and the Validation Accuracy is: 0.9160000085830688\n",
      "Epoch 240:  The loss is: 0.1253746598958969, and the Validation Accuracy is: 0.9163333177566528\n",
      "Epoch 241:  The loss is: 0.12681952118873596, and the Validation Accuracy is: 0.9168333411216736\n",
      "Epoch 242:  The loss is: 0.1265001893043518, and the Validation Accuracy is: 0.9139999747276306\n",
      "Epoch 243:  The loss is: 0.12331795692443848, and the Validation Accuracy is: 0.9156666398048401\n",
      "Epoch 244:  The loss is: 0.1234329491853714, and the Validation Accuracy is: 0.9156666398048401\n",
      "Epoch 245:  The loss is: 0.12648098170757294, and the Validation Accuracy is: 0.9131666421890259\n",
      "Epoch 246:  The loss is: 0.1255582869052887, and the Validation Accuracy is: 0.9148333072662354\n",
      "Epoch 247:  The loss is: 0.12239415943622589, and the Validation Accuracy is: 0.9160000085830688\n",
      "Epoch 248:  The loss is: 0.12145625054836273, and the Validation Accuracy is: 0.9143333435058594\n",
      "Epoch 249:  The loss is: 0.1219998225569725, and the Validation Accuracy is: 0.9128333330154419\n",
      "Epoch 250:  The loss is: 0.12117528170347214, and the Validation Accuracy is: 0.9141666889190674\n",
      "Epoch 251:  The loss is: 0.12129183858633041, and the Validation Accuracy is: 0.9144999980926514\n",
      "Epoch 252:  The loss is: 0.11897549778223038, and the Validation Accuracy is: 0.9169999957084656\n",
      "Epoch 253:  The loss is: 0.11964832246303558, and the Validation Accuracy is: 0.9144999980926514\n",
      "Epoch 254:  The loss is: 0.11926426738500595, and the Validation Accuracy is: 0.9158333539962769\n",
      "Epoch 255:  The loss is: 0.11682930588722229, and the Validation Accuracy is: 0.9154999852180481\n",
      "Epoch 256:  The loss is: 0.11785882711410522, and the Validation Accuracy is: 0.9138333201408386\n"
     ]
    },
    {
     "name": "stdout",
     "output_type": "stream",
     "text": [
      "Epoch 257:  The loss is: 0.11742844432592392, and the Validation Accuracy is: 0.9153333306312561\n",
      "Epoch 258:  The loss is: 0.11944397538900375, and the Validation Accuracy is: 0.9141666889190674\n",
      "Epoch 259:  The loss is: 0.11657070368528366, and the Validation Accuracy is: 0.9153333306312561\n",
      "Epoch 260:  The loss is: 0.11654219776391983, and the Validation Accuracy is: 0.9171666502952576\n",
      "Epoch 261:  The loss is: 0.11586461961269379, and the Validation Accuracy is: 0.9141666889190674\n",
      "Epoch 262:  The loss is: 0.11593164503574371, and the Validation Accuracy is: 0.9143333435058594\n",
      "Epoch 263:  The loss is: 0.11696360260248184, and the Validation Accuracy is: 0.9158333539962769\n",
      "Epoch 264:  The loss is: 0.11348602175712585, and the Validation Accuracy is: 0.9138333201408386\n",
      "Epoch 265:  The loss is: 0.11335501074790955, and the Validation Accuracy is: 0.9143333435058594\n",
      "Epoch 266:  The loss is: 0.11446776241064072, and the Validation Accuracy is: 0.9148333072662354\n",
      "Epoch 267:  The loss is: 0.11336316913366318, and the Validation Accuracy is: 0.9176666736602783\n",
      "Epoch 268:  The loss is: 0.11432293802499771, and the Validation Accuracy is: 0.9133333563804626\n",
      "Epoch 269:  The loss is: 0.11257985234260559, and the Validation Accuracy is: 0.9158333539962769\n",
      "Epoch 270:  The loss is: 0.11409903317689896, and the Validation Accuracy is: 0.9166666865348816\n",
      "Epoch 271:  The loss is: 0.11104782670736313, and the Validation Accuracy is: 0.9158333539962769\n",
      "Epoch 272:  The loss is: 0.1113273948431015, and the Validation Accuracy is: 0.9151666760444641\n",
      "Epoch 273:  The loss is: 0.11098668724298477, and the Validation Accuracy is: 0.9158333539962769\n",
      "Epoch 274:  The loss is: 0.11136438697576523, and the Validation Accuracy is: 0.9161666631698608\n",
      "Epoch 275:  The loss is: 0.11302973330020905, and the Validation Accuracy is: 0.9146666526794434\n",
      "Epoch 276:  The loss is: 0.11188796907663345, and the Validation Accuracy is: 0.9133333563804626\n",
      "Epoch 277:  The loss is: 0.11146736890077591, and the Validation Accuracy is: 0.9154999852180481\n",
      "Epoch 278:  The loss is: 0.10992807149887085, and the Validation Accuracy is: 0.9158333539962769\n",
      "Epoch 279:  The loss is: 0.1127425879240036, and the Validation Accuracy is: 0.9151666760444641\n",
      "Epoch 280:  The loss is: 0.11223811656236649, and the Validation Accuracy is: 0.9144999980926514\n",
      "Epoch 281:  The loss is: 0.10745438188314438, and the Validation Accuracy is: 0.9169999957084656\n",
      "Epoch 282:  The loss is: 0.10721714049577713, and the Validation Accuracy is: 0.9151666760444641\n",
      "Epoch 283:  The loss is: 0.10879041999578476, and the Validation Accuracy is: 0.9144999980926514\n",
      "Epoch 284:  The loss is: 0.10769274085760117, and the Validation Accuracy is: 0.9158333539962769\n",
      "Epoch 285:  The loss is: 0.10574866086244583, and the Validation Accuracy is: 0.9160000085830688\n",
      "Epoch 286:  The loss is: 0.10672561079263687, and the Validation Accuracy is: 0.9175000190734863\n",
      "Epoch 287:  The loss is: 0.10550897568464279, and the Validation Accuracy is: 0.9161666631698608\n",
      "Epoch 288:  The loss is: 0.10729016363620758, and the Validation Accuracy is: 0.9144999980926514\n",
      "Epoch 289:  The loss is: 0.10398990660905838, and the Validation Accuracy is: 0.9164999723434448\n",
      "Epoch 290:  The loss is: 0.10612272471189499, and the Validation Accuracy is: 0.9141666889190674\n",
      "Epoch 291:  The loss is: 0.10364731401205063, and the Validation Accuracy is: 0.9160000085830688\n",
      "Epoch 292:  The loss is: 0.1065744087100029, and the Validation Accuracy is: 0.9151666760444641\n",
      "Epoch 293:  The loss is: 0.10081970691680908, and the Validation Accuracy is: 0.9161666631698608\n",
      "Epoch 294:  The loss is: 0.1060161367058754, and the Validation Accuracy is: 0.9131666421890259\n",
      "Epoch 295:  The loss is: 0.10305117815732956, and the Validation Accuracy is: 0.9183333516120911\n",
      "Epoch 296:  The loss is: 0.1039876937866211, and the Validation Accuracy is: 0.9141666889190674\n",
      "Epoch 297:  The loss is: 0.10048718005418777, and the Validation Accuracy is: 0.9166666865348816\n",
      "Epoch 298:  The loss is: 0.10110977292060852, and the Validation Accuracy is: 0.9173333048820496\n",
      "Epoch 299:  The loss is: 0.09822411090135574, and the Validation Accuracy is: 0.9168333411216736\n",
      "Epoch 300:  The loss is: 0.10066351294517517, and the Validation Accuracy is: 0.9150000214576721\n"
     ]
    }
   ],
   "source": [
    "\"\"\"\n",
    "DON'T MODIFY ANYTHING IN THIS CELL\n",
    "\"\"\"\n",
    "save_model_path = './image_classification'\n",
    "\n",
    "with tf.Session() as sess:\n",
    "    # Initializing the variables\n",
    "    sess.run(tf.global_variables_initializer())\n",
    "    \n",
    "    # Training cycle\n",
    "    for epoch in range(epochs):\n",
    "        for batch_features, batch_labels in helper.load_preprocess_training_batch(batch_size):\n",
    "            train_neural_network(sess, optimizer, keep_probability, batch_features, batch_labels)\n",
    "        print('Epoch {:>2}:  '.format(epoch + 1), end='')\n",
    "        print_stats(sess, batch_features, batch_labels, cost, accuracy)\n",
    "            \n",
    "    # Save Model\n",
    "    saver = tf.train.Saver()\n",
    "    save_path = saver.save(sess, save_model_path)"
   ]
  },
  {
   "cell_type": "markdown",
   "metadata": {},
   "source": [
    "# Checkpoint\n",
    "The model has been saved to disk.\n",
    "## Test Model\n",
    "Test your model against the test dataset.  This will be your final accuracy. You should have an accuracy greater than 50%. If you don't, keep tweaking the model architecture and parameters."
   ]
  },
  {
   "cell_type": "code",
   "execution_count": 26,
   "metadata": {},
   "outputs": [
    {
     "name": "stdout",
     "output_type": "stream",
     "text": [
      "INFO:tensorflow:Restoring parameters from ./image_classification\n",
      "Testing Accuracy: 0.9111679196357727\n",
      "\n"
     ]
    },
    {
     "data": {
      "image/png": "[encoded data removed]",
      "text/plain": [
       "<matplotlib.figure.Figure at 0x216001d71d0>"
      ]
     },
     "metadata": {
      "image/png": {
       "height": 319,
       "width": 349
      }
     },
     "output_type": "display_data"
    }
   ],
   "source": [
    "\"\"\"\n",
    "DON'T MODIFY ANYTHING IN THIS CELL\n",
    "\"\"\"\n",
    "%matplotlib inline\n",
    "%config InlineBackend.figure_format = 'retina'\n",
    "\n",
    "import tensorflow as tf\n",
    "import pickle\n",
    "import helper\n",
    "import random\n",
    "\n",
    "\n",
    "save_model_path = './image_classification'\n",
    "n_samples = 4\n",
    "top_n_predictions = 3\n",
    "\n",
    "def test_model():\n",
    "    \"\"\"\n",
    "    Test the saved model against the test dataset\n",
    "    \"\"\"\n",
    "\n",
    "    test_features, test_labels = pickle.load(open('preprocess_test.p', mode='rb'))\n",
    "    loaded_graph = tf.Graph()\n",
    "    \n",
    "    config = tf.ConfigProto(device_count = {'GPU': 0})\n",
    "\n",
    "    with tf.Session(config=config, graph=loaded_graph) as sess:\n",
    "        # Load model\n",
    "        loader = tf.train.import_meta_graph(save_model_path + '.meta')\n",
    "        loader.restore(sess, save_model_path)\n",
    "\n",
    "        # Get Tensors from loaded model\n",
    "        loaded_x = loaded_graph.get_tensor_by_name('x:0')\n",
    "        loaded_y = loaded_graph.get_tensor_by_name('y:0')\n",
    "        loaded_keep_prob = loaded_graph.get_tensor_by_name('keep_prob:0')\n",
    "        loaded_logits = loaded_graph.get_tensor_by_name('logits:0')\n",
    "        loaded_acc = loaded_graph.get_tensor_by_name('accuracy:0')\n",
    "        \n",
    "        # Get accuracy in batches for memory limitations\n",
    "        test_batch_acc_total = 0\n",
    "        test_batch_count = 0\n",
    "        \n",
    "        for test_feature_batch, test_label_batch in helper.batch_features_labels(test_features, test_labels, batch_size):\n",
    "            test_batch_acc_total += sess.run(\n",
    "                loaded_acc,\n",
    "                feed_dict={loaded_x: test_feature_batch, loaded_y: test_label_batch, loaded_keep_prob: 1.0})\n",
    "            test_batch_count += 1\n",
    "\n",
    "        print('Testing Accuracy: {}\\n'.format(test_batch_acc_total/test_batch_count))\n",
    "\n",
    "        # Print Random Samples\n",
    "        random_test_features, random_test_labels = tuple(zip(*random.sample(list(zip(test_features, test_labels)), n_samples)))\n",
    "        random_test_predictions = sess.run(\n",
    "            tf.nn.top_k(tf.nn.softmax(loaded_logits), top_n_predictions),\n",
    "            feed_dict={loaded_x: random_test_features, loaded_y: random_test_labels, loaded_keep_prob: 1.0})\n",
    "        helper.display_image_predictions(random_test_features, random_test_labels, random_test_predictions)\n",
    "\n",
    "\n",
    "test_model()"
   ]
  }
 ],
 "metadata": {
  "kernelspec": {
   "display_name": "Python 3",
   "language": "python",
   "name": "python3"
  },
  "language_info": {
   "codemirror_mode": {
    "name": "ipython",
    "version": 3
   },
   "file_extension": ".py",
   "mimetype": "text/x-python",
   "name": "python",
   "nbconvert_exporter": "python",
   "pygments_lexer": "ipython3",
   "version": "3.5.2"
  },
  "widgets": {
   "state": {},
   "version": "1.1.2"
  }
 },
 "nbformat": 4,
 "nbformat_minor": 1
}
